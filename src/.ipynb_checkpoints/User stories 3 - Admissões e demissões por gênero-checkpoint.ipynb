{
 "cells": [
  {
   "cell_type": "code",
   "execution_count": 1,
   "id": "76bc52e5",
   "metadata": {},
   "outputs": [],
   "source": [
    "import pandas\n",
    "import matplotlib.pyplot as plt\n",
    "import numpy\n",
    "import os"
   ]
  },
  {
   "cell_type": "code",
   "execution_count": 2,
   "id": "b4b1b58c",
   "metadata": {},
   "outputs": [],
   "source": [
    "dicionarioMeses = {\n",
    "    1: \"Janeiro\", \n",
    "    2: \"Fevereiro\", \n",
    "    3: \"Março\", \n",
    "    4: \"Abril\", \n",
    "    5: \"Maio\", \n",
    "    6: \"Junho\", \n",
    "    7: \"Julho\", \n",
    "    8: \"Agosto\",\n",
    "    9: \"Setembro\", \n",
    "    10: \"Outubro\", \n",
    "    11: \"Novembro\", \n",
    "    12: \"Dezembro\"\n",
    "}\n",
    "    \n",
    "def pegarNomeMes(numeroMes):\n",
    "    return dicionarioMeses[numeroMes]"
   ]
  },
  {
   "cell_type": "code",
   "execution_count": 8,
   "id": "42418d52",
   "metadata": {},
   "outputs": [],
   "source": [
    "def lerTabelasDiretorio(ano):\n",
    "    caminhoDados = \"../doc/Dados/CAGED\"\n",
    "    colunasUtilizaveis = [\"sexo\", \"tipomovimentação\"]\n",
    "    \n",
    "    fonteDados = os.listdir(caminhoDados + \"/\" + ano)\n",
    "    \n",
    "    # Retira os arquivos que não são do tipo .txt da lista\n",
    "    for arquivo in fonteDados:\n",
    "        if \".txt\" not in arquivo:\n",
    "            del fonteDados[fonteDados.index(arquivo)]\n",
    "    \n",
    "    tabelas = {}\n",
    "    \n",
    "    for nomeTabela in fonteDados:\n",
    "        valorMes = int(nomeTabela.split(\".\")[0][-2:])  # Pega os dois últimos valores do nome do arquivo, que representam o mês e converte para um inteiro\n",
    "        nomeMes = pegarNomeMes(valorMes)\n",
    "        \n",
    "        tabelas[nomeMes] = pandas.read_csv(caminhoDados + \"/\" + ano + \"/\" + nomeTabela,\n",
    "                                           delimiter=\";\",\n",
    "                                           usecols=colunasUtilizaveis)\n",
    "        \n",
    "        return tabelas"
   ]
  },
  {
   "cell_type": "code",
   "execution_count": 9,
   "id": "21c85b41",
   "metadata": {},
   "outputs": [],
   "source": [
    "colunasUtilizaveis = [\"sexo\", \"tipomovimentação\"]\n",
    "\n",
    "dados2020 = lerTabelasDiretorio(\"2020\")\n",
    "dados2021 = lerTabelasDiretorio(\"2021\")"
   ]
  },
  {
   "cell_type": "code",
   "execution_count": 93,
   "id": "96403b0f",
   "metadata": {},
   "outputs": [
    {
     "name": "stdout",
     "output_type": "stream",
     "text": [
      "         sexo  tipomovimentação\n",
      "3           1                10\n",
      "14          1                10\n",
      "44          1                10\n",
      "90          1                10\n",
      "156         1                10\n",
      "...       ...               ...\n",
      "2890641     1                10\n",
      "2890655     1                10\n",
      "2890657     1                10\n",
      "2890714     1                10\n",
      "2890715     1                10\n",
      "\n",
      "[63357 rows x 2 columns]\n",
      "[63357]\n",
      "10\n"
     ]
    }
   ],
   "source": [
    "grupo = dados2020[\"Janeiro\"].groupby([\"sexo\", \"tipomovimentação\"])\n",
    "\n",
    "for chave, valor in grupo:\n",
    "    grupinho = grupo.get_group(chave)\n",
    "    print(grupinho)\n",
    "    \n",
    "    print(grupinho.groupby(\"tipomovimentação\").count().values[0][0])\n",
    "    #print(grupinho.groupby(\"sexo\").sample().values[0][0])\n",
    "    print(grupinho.sample().values[0][1])\n",
    "    \n",
    "    break;\n",
    "    \n",
    "def pegarSomaTotalGrupo(grupo, colunaParaSomar):\n",
    "    return grupo.groupby(colunaParaSomar).count().values[0][0]\n",
    "\n",
    "def pegarTipoColunaGrupo(grupo, nomeColuna):\n",
    "    indexColuna = grupo.columns.get_loc(nomeColuna)\n",
    "    return grupo.sample().values[0][indexColuna]"
   ]
  },
  {
   "cell_type": "code",
   "execution_count": 13,
   "id": "55460fd3",
   "metadata": {},
   "outputs": [],
   "source": [
    "dicionarioDeDados = {\n",
    "    \"sexo\": {\n",
    "        1: \"Homem\",\n",
    "        3: \"Mulher\",\n",
    "        9: \"Não identificado\"\n",
    "    },\n",
    "    \"tipomovimentação\": {\n",
    "        10: \"Admissão\", #\"Admissão por primeiro emprego\",\n",
    "        20: \"Admissão\", #\"Admissão por reemprego,\"\n",
    "        25: \"Admissão\", #\"Admissão por contrato trabalho prazo determinado\",\n",
    "        31: \"Demissão\", #\"Desligamento por demissão sem justa causa\",\n",
    "        32: \"Demissão\", #\"Desligamento por demissão com justa causa\",\n",
    "        33: \"Demissão\", #\"Culpa Recíproca\",\n",
    "        35: \"Admissão\", #\"Admissão por reintegração\",\n",
    "        40: \"Demissão\", #\"Desligamento a pedido\",\n",
    "        43: \"Demissão\", #\"Término contrato trabalho prazo determinado\",\n",
    "        45: \"Demissão\", #\"Desligamento por Término de contrato\",\n",
    "        50: \"Demissão\", #\"Desligamento por aposentadoria\",\n",
    "        60: \"Demissão\", #\"Desligamento por morte\",\n",
    "        70: \"Admissão\", #\"Admissão por transferência\",\n",
    "        80: \"Demissão\", #\"Desligamento por transferência\",\n",
    "        90: \"Demissão\", #\"Desligamento por Acordo entre empregado e empregador\",\n",
    "        98: \"Demissão\", #\"Desligamento de Tipo Ignorado\",\n",
    "        99: \"Não Identificado\"\n",
    "    }\n",
    "}"
   ]
  },
  {
   "cell_type": "code",
   "execution_count": 20,
   "id": "491d31f2",
   "metadata": {},
   "outputs": [],
   "source": [
    "def contarValores(baseDeDados, colunaAContar, valorAContar):\n",
    "    totais = baseDeDados.groupby(colunaAContar).count()\n",
    "    \n",
    "    if(len(totais.columns) == 1):\n",
    "        coluna = totais.columns[0]\n",
    "        return totais[coluna][valorAContar]"
   ]
  },
  {
   "cell_type": "code",
   "execution_count": 14,
   "id": "a7d3ddae",
   "metadata": {},
   "outputs": [
    {
     "ename": "NameError",
     "evalue": "name 'dadosfil' is not defined",
     "output_type": "error",
     "traceback": [
      "\u001b[1;31m---------------------------------------------------------------------------\u001b[0m",
      "\u001b[1;31mNameError\u001b[0m                                 Traceback (most recent call last)",
      "\u001b[1;32m<ipython-input-14-889a4e82fba2>\u001b[0m in \u001b[0;36m<module>\u001b[1;34m\u001b[0m\n\u001b[0;32m      1\u001b[0m \u001b[0mdadosFiltrados2020\u001b[0m \u001b[1;33m=\u001b[0m \u001b[1;33m{\u001b[0m\u001b[1;33m}\u001b[0m\u001b[1;33m\u001b[0m\u001b[1;33m\u001b[0m\u001b[0m\n\u001b[0;32m      2\u001b[0m \u001b[1;33m\u001b[0m\u001b[0m\n\u001b[1;32m----> 3\u001b[1;33m \u001b[0mdadosfil\u001b[0m\u001b[1;33m\u001b[0m\u001b[1;33m\u001b[0m\u001b[0m\n\u001b[0m\u001b[0;32m      4\u001b[0m \u001b[1;33m\u001b[0m\u001b[0m\n\u001b[0;32m      5\u001b[0m \u001b[0mtotalHomens\u001b[0m \u001b[1;33m=\u001b[0m \u001b[0mcontarValores\u001b[0m\u001b[1;33m(\u001b[0m\u001b[0mdados2020\u001b[0m\u001b[1;33m,\u001b[0m \u001b[1;34m\"sexo\"\u001b[0m\u001b[1;33m,\u001b[0m \u001b[1;36m1\u001b[0m\u001b[1;33m)\u001b[0m\u001b[1;33m\u001b[0m\u001b[1;33m\u001b[0m\u001b[0m\n",
      "\u001b[1;31mNameError\u001b[0m: name 'dadosfil' is not defined"
     ]
    }
   ],
   "source": [
    "dadosFiltrados2020 = {}\n",
    "\n",
    "dadosFiltrados2020[\"Janeiro\": {\n",
    "    \"Admissões\": {\n",
    "        \"Homes\": 10,\n",
    "        \"Mulheres:\" : 10,\n",
    "        \"Não identificado\" : 10\n",
    "    },\n",
    "    \"Demissões\": {\n",
    "        \"Homes\": 10,\n",
    "        \"Mulheres:\" : 10,\n",
    "        \"Não identificado\" : 10\n",
    "    }\n",
    "}]\n",
    "\n",
    "for mes in dados2020:\n",
    "    dados = dados2020[mes]\n",
    "    \n",
    "    dadosFiltradosMes = {}\n",
    "    \n",
    "    \n",
    "    contarValores(dados, \"sexo\", 1)\n",
    "\n",
    "totalHomens = contarValores(dados2020, \"sexo\", 1)\n",
    "totalMulheres = contarValores(dados2020, \"sexo\", 3)"
   ]
  },
  {
   "cell_type": "code",
   "execution_count": null,
   "id": "1e2912ce",
   "metadata": {},
   "outputs": [],
   "source": []
  }
 ],
 "metadata": {
  "kernelspec": {
   "display_name": "Python 3",
   "language": "python",
   "name": "python3"
  },
  "language_info": {
   "codemirror_mode": {
    "name": "ipython",
    "version": 3
   },
   "file_extension": ".py",
   "mimetype": "text/x-python",
   "name": "python",
   "nbconvert_exporter": "python",
   "pygments_lexer": "ipython3",
   "version": "3.9.1"
  }
 },
 "nbformat": 4,
 "nbformat_minor": 5
}
