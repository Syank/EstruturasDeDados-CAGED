{
 "cells": [
  {
   "cell_type": "code",
   "execution_count": 3,
   "id": "a01483a2",
   "metadata": {},
   "outputs": [],
   "source": [
    "import pandas\n",
    "import matplotlib.pyplot as plt\n",
    "import numpy"
   ]
  },
  {
   "cell_type": "code",
   "execution_count": 8,
   "id": "47bf5c00",
   "metadata": {},
   "outputs": [],
   "source": [
    "tabela = pandas.read_excel(\"../doc/Dados/tabelas_janeiro_2020.xlsx\", sheet_name=\"Tabela 2\")"
   ]
  },
  {
   "cell_type": "code",
   "execution_count": 16,
   "id": "63501740",
   "metadata": {},
   "outputs": [],
   "source": [
    "nomesRegioes = tabela[\"Unnamed: 1\"]\n",
    "admissoes = tabela[\"Unnamed: 2\"]\n",
    "desligamentos = tabela[\"Unnamed: 3\"]\n",
    "saldos = tabela[\"Unnamed: 4\"]\n",
    "variacaoRelativa = tabela[\"Unnamed: 5\"]"
   ]
  },
  {
   "cell_type": "code",
   "execution_count": 31,
   "id": "4a966aaf",
   "metadata": {},
   "outputs": [],
   "source": [
    "dadosFiltrados = {\n",
    "    nomesRegioes[6]: {\n",
    "        \"titulosBarras\": [\"Admissões\", \"Desligamentos\", \"Saldos\"],\n",
    "        \"valoresBarras\": [admissoes[6], desligamentos[6], saldos[6]]\n",
    "    }\n",
    "}"
   ]
  },
  {
   "cell_type": "code",
   "execution_count": 32,
   "id": "952f17a6",
   "metadata": {},
   "outputs": [
    {
     "data": {
      "text/plain": [
       "{'Brasil': {'titulosBarras': ['Admissões', 'Desligamentos', 'Saldos'],\n",
       "  'valoresBarras': [1342262, 1275444, 66818]}}"
      ]
     },
     "execution_count": 32,
     "metadata": {},
     "output_type": "execute_result"
    }
   ],
   "source": [
    "dadosFiltrados"
   ]
  },
  {
   "cell_type": "code",
   "execution_count": 58,
   "id": "240707d3",
   "metadata": {},
   "outputs": [
    {
     "data": {
      "text/plain": [
       "Text(0.5, 1.0, 'Saldo de empregos - Janeiro/2020 - Brasil')"
      ]
     },
     "execution_count": 58,
     "metadata": {},
     "output_type": "execute_result"
    },
    {
     "data": {
      "image/png": "[encoded data removed]",
      "text/plain": [
       "<Figure size 1440x432 with 1 Axes>"
      ]
     },
     "metadata": {
      "needs_background": "light"
     },
     "output_type": "display_data"
    }
   ],
   "source": [
    "plt.figure(figsize=(20, 6))\n",
    "\n",
    "plt.subplot(131)\n",
    "plt.bar(dadosFiltrados[\"Brasil\"][\"titulosBarras\"], dadosFiltrados[\"Brasil\"][\"valoresBarras\"], width=1.2, )\n",
    "plt.gcf().axes[0].yaxis.get_major_formatter().set_scientific(False)  # Desabilita a notação científica no eixo Y\n",
    "plt.title(\"Saldo de empregos - Janeiro/2020 - Brasil\")"
   ]
  },
  {
   "cell_type": "code",
   "execution_count": null,
   "id": "d54c9ace",
   "metadata": {},
   "outputs": [],
   "source": []
  }
 ],
 "metadata": {
  "kernelspec": {
   "display_name": "Python 3",
   "language": "python",
   "name": "python3"
  },
  "language_info": {
   "codemirror_mode": {
    "name": "ipython",
    "version": 3
   },
   "file_extension": ".py",
   "mimetype": "text/x-python",
   "name": "python",
   "nbconvert_exporter": "python",
   "pygments_lexer": "ipython3",
   "version": "3.9.1"
  }
 },
 "nbformat": 4,
 "nbformat_minor": 5
}
