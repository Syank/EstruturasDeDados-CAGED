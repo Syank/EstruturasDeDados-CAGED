{
 "cells": [
  {
   "cell_type": "code",
   "execution_count": 1,
   "id": "a01483a2",
   "metadata": {},
   "outputs": [],
   "source": [
    "import pandas\n",
    "import matplotlib.pyplot as plt\n",
    "import numpy\n",
    "import os"
   ]
  },
  {
   "cell_type": "code",
   "execution_count": 2,
   "id": "212ec539",
   "metadata": {},
   "outputs": [
    {
     "ename": "FileNotFoundError",
     "evalue": "[WinError 3] O sistema não pode encontrar o caminho especificado: '../doc/Dados/CAGED/Excel/2020'",
     "output_type": "error",
     "traceback": [
      "\u001b[1;31m---------------------------------------------------------------------------\u001b[0m",
      "\u001b[1;31mFileNotFoundError\u001b[0m                         Traceback (most recent call last)",
      "\u001b[1;32m<ipython-input-2-ba3d16677bc6>\u001b[0m in \u001b[0;36m<module>\u001b[1;34m\u001b[0m\n\u001b[0;32m      1\u001b[0m \u001b[0mcaminhoDados\u001b[0m \u001b[1;33m=\u001b[0m \u001b[1;34m\"../doc/Dados/CAGED/Excel\"\u001b[0m\u001b[1;33m\u001b[0m\u001b[1;33m\u001b[0m\u001b[0m\n\u001b[1;32m----> 2\u001b[1;33m \u001b[0mdados2020\u001b[0m \u001b[1;33m=\u001b[0m \u001b[0mos\u001b[0m\u001b[1;33m.\u001b[0m\u001b[0mlistdir\u001b[0m\u001b[1;33m(\u001b[0m\u001b[0mcaminhoDados\u001b[0m \u001b[1;33m+\u001b[0m \u001b[1;34m\"/2020\"\u001b[0m\u001b[1;33m)\u001b[0m\u001b[1;33m\u001b[0m\u001b[1;33m\u001b[0m\u001b[0m\n\u001b[0m\u001b[0;32m      3\u001b[0m \u001b[0mdados2021\u001b[0m \u001b[1;33m=\u001b[0m \u001b[0mos\u001b[0m\u001b[1;33m.\u001b[0m\u001b[0mlistdir\u001b[0m\u001b[1;33m(\u001b[0m\u001b[0mcaminhoDados\u001b[0m \u001b[1;33m+\u001b[0m \u001b[1;34m\"/2021\"\u001b[0m\u001b[1;33m)\u001b[0m\u001b[1;33m\u001b[0m\u001b[1;33m\u001b[0m\u001b[0m\n",
      "\u001b[1;31mFileNotFoundError\u001b[0m: [WinError 3] O sistema não pode encontrar o caminho especificado: '../doc/Dados/CAGED/Excel/2020'"
     ]
    }
   ],
   "source": [
    "caminhoDados = \"../doc/Dados/CAGED/Excel\"\n",
    "dados2020 = os.listdir(caminhoDados + \"/2020\")\n",
    "dados2021 = os.listdir(caminhoDados + \"/2021\")"
   ]
  },
  {
   "cell_type": "code",
   "execution_count": null,
   "id": "fd6fefd4",
   "metadata": {},
   "outputs": [],
   "source": [
    "def lerTabelasDiretorio(ano):\n",
    "    caminhoDados = \"../doc/Dados/CAGED\"\n",
    "    \n",
    "    nomesTabelas = os.listdir(caminhoDados + \"/\" + ano)\n",
    "\n",
    "    tabelas = {}\n",
    "\n",
    "    for nome in nomesTabelas:\n",
    "        nomeMes = nome.split(\".\")[0]  # Tira o \".xlxs\" do nome\n",
    "        \n",
    "        tabelas[nomeMes] = pandas.read_excel(caminhoDados + \"/\" + ano + \"/\" + nome, sheet_name=\"Tabela 2\")\n",
    "    \n",
    "    return tabelas"
   ]
  },
  {
   "cell_type": "code",
   "execution_count": null,
   "id": "47bf5c00",
   "metadata": {},
   "outputs": [],
   "source": [
    "tabelas = {}\n",
    "tabelas[\"2020\"] = lerTabelasDiretorio(\"2020\")\n",
    "tabelas[\"2021\"] = lerTabelasDiretorio(\"2021\")"
   ]
  },
  {
   "cell_type": "code",
   "execution_count": null,
   "id": "9a140a76",
   "metadata": {
    "scrolled": true
   },
   "outputs": [],
   "source": [
    "meses = [\"janeiro\", \"fevereiro\", \"março\", \"abril\", \"maio\", \"junho\", \"julho\", \"agosto\",\n",
    "         \"setembro\", \"outubro\", \"novembro\", \"dezembro\"]\n",
    "\n",
    "dadosFiltrados = []\n",
    "\n",
    "for mes in meses:\n",
    "    nomeParaExibir = mes[0].upper() + mes[1:]\n",
    "    dicionarioMes = {}\n",
    "    dicionarioMes[\"mes\"] = nomeParaExibir\n",
    "    dicionarioMes[\"admissoes\"] = tabelas[\"2020\"][mes][\"Unnamed: 2\"][6]\n",
    "    dicionarioMes[\"desligamentos\"] = tabelas[\"2020\"][mes][\"Unnamed: 3\"][6]\n",
    "    dicionarioMes[\"saldo\"] = tabelas[\"2020\"][mes][\"Unnamed: 4\"][6]\n",
    "    \n",
    "    dadosFiltrados.append(dicionarioMes)\n",
    "    \n",
    "dadosFiltrados2021 = []\n",
    "\n",
    "meses = [\"janeiro\", \"fevereiro\", \"março\"]\n",
    "\n",
    "for mes in meses:\n",
    "    nomeParaExibir = mes[0].upper() + mes[1:]\n",
    "    dicionarioMes = {}\n",
    "    dicionarioMes[\"mes\"] = nomeParaExibir\n",
    "    dicionarioMes[\"admissoes\"] = tabelas[\"2021\"][mes][\"Unnamed: 2\"][6]\n",
    "    dicionarioMes[\"desligamentos\"] = tabelas[\"2021\"][mes][\"Unnamed: 3\"][6]\n",
    "    dicionarioMes[\"saldo\"] = tabelas[\"2021\"][mes][\"Unnamed: 4\"][6]\n",
    "    \n",
    "    dadosFiltrados2021.append(dicionarioMes)"
   ]
  },
  {
   "cell_type": "code",
   "execution_count": null,
   "id": "d0b6d005",
   "metadata": {},
   "outputs": [],
   "source": [
    "def plotarGraficoSaldoGeral(dados, titulo):\n",
    "    plt.figure(figsize=(20, 6))\n",
    "    plt.subplot(212)\n",
    "\n",
    "    dadosGraficoLinha = {\n",
    "        \"mes\": [],\n",
    "        \"saldo\": []\n",
    "    }\n",
    "\n",
    "    # Coloca os pontos no gráfico\n",
    "    for dado in dados:\n",
    "        plt.plot(dado[\"mes\"], dado[\"saldo\"], \"ro\")\n",
    "\n",
    "        dadosGraficoLinha[\"mes\"].append(dado[\"mes\"])\n",
    "        dadosGraficoLinha[\"saldo\"].append(dado[\"saldo\"])\n",
    "\n",
    "    # Coloca o gráfico de linha\n",
    "    plt.plot(dadosGraficoLinha[\"mes\"], dadosGraficoLinha[\"saldo\"])\n",
    "\n",
    "    # Desabilita a notação científica no eixo Y\n",
    "    plt.gcf().axes[0].yaxis.get_major_formatter().set_scientific(False)\n",
    "\n",
    "    # Coloca um título no gráfico\n",
    "    plt.title(titulo)\n",
    "\n",
    "    # Adiciona linhas de referência\n",
    "    plt.grid(True)\n",
    "\n",
    "    # Exibe o gráfico com todos os subgráficos\n",
    "    plt.show()"
   ]
  },
  {
   "cell_type": "code",
   "execution_count": null,
   "id": "f2e3c822",
   "metadata": {},
   "outputs": [],
   "source": [
    "plotarGraficoSaldoGeral(dadosFiltrados, \"Saldo geral de empregos - 2020\")"
   ]
  },
  {
   "cell_type": "code",
   "execution_count": null,
   "id": "17dc9f4d",
   "metadata": {},
   "outputs": [],
   "source": [
    "plotarGraficoSaldoGeral(dadosFiltrados2021, \"Saldo geral de empregos até Março - 2021\")"
   ]
  }
 ],
 "metadata": {
  "kernelspec": {
   "display_name": "Python 3",
   "language": "python",
   "name": "python3"
  },
  "language_info": {
   "codemirror_mode": {
    "name": "ipython",
    "version": 3
   },
   "file_extension": ".py",
   "mimetype": "text/x-python",
   "name": "python",
   "nbconvert_exporter": "python",
   "pygments_lexer": "ipython3",
   "version": "3.9.1"
  }
 },
 "nbformat": 4,
 "nbformat_minor": 5
}
